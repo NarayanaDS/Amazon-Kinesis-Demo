{
 "cells": [
  {
   "cell_type": "markdown",
   "metadata": {},
   "source": [
    "# E-Commerce (Retail) Order History App"
   ]
  },
  {
   "cell_type": "markdown",
   "metadata": {},
   "source": [
    "### Set up fake order log generator:\n",
    "-\tSet up EC2 T2/micro instance with latest Amazon Linux AMI\n",
    "-\tsudo yum install –y aws-kinesis-agent\n",
    "-\tgit clone https://github.com/debnsuma/Amazon-Kinesis-Demo.git\n",
    "-   cd Amazon-Kinesis-Demo/Lab1/\n",
    "-\tchmod a+x log-gen.py\n",
    "-\tsudo mkdir /var/log/devonair"
   ]
  },
  {
   "cell_type": "markdown",
   "metadata": {},
   "source": [
    "### Set up Kinesis Streams:\n",
    "-\tAWS console: Kinesis / create data stream\n",
    "-\tWarn student that Kinesis streams have an hourly cost whether you're using them or not\n",
    "-\tName: OrderLogs / 1 shard\n",
    "-\tcd /etc/aws-kinesis\n",
    "-\tsudo nano agent.json"
   ]
  },
  {
   "cell_type": "markdown",
   "metadata": {},
   "source": [
    "### Test the stream:\n",
    "-\tcd Amazon-Kinesis-Demo/Lab1/\n",
    "-\tsudo python log-gen.py\n",
    "-\ttail -f /var/log/aws-kinesis-agent/aws-kinesis-agent.log"
   ]
  },
  {
   "cell_type": "code",
   "execution_count": null,
   "metadata": {},
   "outputs": [],
   "source": []
  }
 ],
 "metadata": {
  "kernelspec": {
   "display_name": "Python 3",
   "language": "python",
   "name": "python3"
  },
  "language_info": {
   "codemirror_mode": {
    "name": "ipython",
    "version": 3
   },
   "file_extension": ".py",
   "mimetype": "text/x-python",
   "name": "python",
   "nbconvert_exporter": "python",
   "pygments_lexer": "ipython3",
   "version": "3.7.3"
  }
 },
 "nbformat": 4,
 "nbformat_minor": 2
}
